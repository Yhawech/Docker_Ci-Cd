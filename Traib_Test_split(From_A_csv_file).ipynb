{
  "nbformat": 4,
  "nbformat_minor": 0,
  "metadata": {
    "colab": {
      "provenance": [],
      "authorship_tag": "ABX9TyNAr6UrIg/Eh+i9rdi2Jbv+",
      "include_colab_link": true
    },
    "kernelspec": {
      "name": "python3",
      "display_name": "Python 3"
    },
    "language_info": {
      "name": "python"
    }
  },
  "cells": [
    {
      "cell_type": "markdown",
      "metadata": {
        "id": "view-in-github",
        "colab_type": "text"
      },
      "source": [
        "<a href=\"https://colab.research.google.com/github/Yhawech/Docker_Ci-Cd/blob/main/Traib_Test_split(From_A_csv_file).ipynb\" target=\"_parent\"><img src=\"https://colab.research.google.com/assets/colab-badge.svg\" alt=\"Open In Colab\"/></a>"
      ]
    },
    {
      "cell_type": "code",
      "execution_count": 2,
      "metadata": {
        "colab": {
          "base_uri": "https://localhost:8080/"
        },
        "id": "VVpc7hNc9JGD",
        "outputId": "6d9b6b7d-a9d3-48ef-c5d8-256a8e2899d7"
      },
      "outputs": [
        {
          "output_type": "stream",
          "name": "stdout",
          "text": [
            "Mounted at /content/drive\n",
            "Dataset shape: (150000, 21)\n",
            "         Date      Time    Booking ID   Booking Status   Customer ID  \\\n",
            "0  2024-03-23  12:29:38  \"CNR5884300\"  No Driver Found  \"CID1982111\"   \n",
            "1  2024-11-29  18:01:39  \"CNR1326809\"       Incomplete  \"CID4604802\"   \n",
            "2  2024-08-23  08:56:10  \"CNR8494506\"        Completed  \"CID9202816\"   \n",
            "3  2024-10-21  17:17:25  \"CNR8906825\"        Completed  \"CID2610914\"   \n",
            "4  2024-09-16  22:08:00  \"CNR1950162\"        Completed  \"CID9933542\"   \n",
            "\n",
            "    Vehicle Type      Pickup Location      Drop Location  Avg VTAT  Avg CTAT  \\\n",
            "0          eBike          Palam Vihar            Jhilmil       NaN       NaN   \n",
            "1       Go Sedan        Shastri Nagar  Gurgaon Sector 56       4.9      14.0   \n",
            "2           Auto              Khandsa      Malviya Nagar      13.4      25.8   \n",
            "3  Premier Sedan  Central Secretariat           Inderlok      13.1      28.5   \n",
            "4           Bike     Ghitorni Village        Khan Market       5.3      19.6   \n",
            "\n",
            "   ...  Reason for cancelling by Customer Cancelled Rides by Driver  \\\n",
            "0  ...                                NaN                       NaN   \n",
            "1  ...                                NaN                       NaN   \n",
            "2  ...                                NaN                       NaN   \n",
            "3  ...                                NaN                       NaN   \n",
            "4  ...                                NaN                       NaN   \n",
            "\n",
            "   Driver Cancellation Reason Incomplete Rides  Incomplete Rides Reason  \\\n",
            "0                         NaN              NaN                      NaN   \n",
            "1                         NaN              1.0        Vehicle Breakdown   \n",
            "2                         NaN              NaN                      NaN   \n",
            "3                         NaN              NaN                      NaN   \n",
            "4                         NaN              NaN                      NaN   \n",
            "\n",
            "  Booking Value  Ride Distance  Driver Ratings  Customer Rating  \\\n",
            "0           NaN            NaN             NaN              NaN   \n",
            "1         237.0           5.73             NaN              NaN   \n",
            "2         627.0          13.58             4.9              4.9   \n",
            "3         416.0          34.02             4.6              5.0   \n",
            "4         737.0          48.21             4.1              4.3   \n",
            "\n",
            "   Payment Method  \n",
            "0             NaN  \n",
            "1             UPI  \n",
            "2      Debit Card  \n",
            "3             UPI  \n",
            "4             UPI  \n",
            "\n",
            "[5 rows x 21 columns]\n",
            "Train set: (120000, 20) (120000,)\n",
            "Test set: (30000, 20) (30000,)\n"
          ]
        }
      ],
      "source": [
        "# Import libraries\n",
        "import pandas as pd\n",
        "from google.colab import drive\n",
        "from sklearn.model_selection import train_test_split\n",
        "\n",
        "# Mount Google Drive\n",
        "drive.mount('/content/drive')\n",
        "\n",
        "# Load dataset\n",
        "df = pd.read_csv('/content/drive/MyDrive/ncr_ride_bookings.csv')\n",
        "\n",
        "# Check shape and preview\n",
        "print(\"Dataset shape:\", df.shape)\n",
        "print(df.head())\n",
        "\n",
        "# -------------------------\n",
        "# Train-Test Split\n",
        "# -------------------------\n",
        "\n",
        "# If you want to predict \"Booking Value\" (example target column):\n",
        "X = df.drop(columns=[\"Booking Value\"])   # features\n",
        "y = df[\"Booking Value\"]                  # target\n",
        "\n",
        "# Split into train (80%) and test (20%)\n",
        "X_train, X_test, y_train, y_test = train_test_split(\n",
        "    X, y, test_size=0.2, random_state=42\n",
        ")\n",
        "\n",
        "print(\"Train set:\", X_train.shape, y_train.shape)\n",
        "print(\"Test set:\", X_test.shape, y_test.shape)\n",
        "\n",
        "# -------------------------\n",
        "# OPTIONAL: Save splits to Drive\n",
        "# -------------------------\n",
        "X_train[\"Booking Value\"] = y_train\n",
        "X_test[\"Booking Value\"] = y_test\n",
        "\n",
        "X_train.to_csv('/content/drive/MyDrive/ncr_train.csv', index=False)\n",
        "X_test.to_csv('/content/drive/MyDrive/ncr_test.csv', index=False)\n"
      ]
    }
  ]
}